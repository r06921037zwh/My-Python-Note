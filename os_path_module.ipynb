{
 "cells": [
  {
   "cell_type": "markdown",
   "metadata": {},
   "source": [
    "### 讀寫檔案\n",
    "- Windows 上的反斜線 (\\)\n",
    "- Linux/MacOS上的斜線 (/)\n"
   ]
  },
  {
   "cell_type": "code",
   "execution_count": 1,
   "metadata": {},
   "outputs": [
    {
     "data": {
      "text/plain": [
       "'usr\\\\bin\\\\spam'"
      ]
     },
     "execution_count": 1,
     "metadata": {},
     "output_type": "execute_result"
    }
   ],
   "source": [
    "import os \n",
    "os.path.join('usr', 'bin', 'spam')"
   ]
  },
  {
   "cell_type": "code",
   "execution_count": 2,
   "metadata": {},
   "outputs": [
    {
     "name": "stdout",
     "output_type": "stream",
     "text": [
      "C:\\Users\\zhewei\\accounts.txt\n",
      "C:\\Users\\zhewei\\details.txt\n",
      "C:\\Users\\zhewei\\invite.txt\n"
     ]
    }
   ],
   "source": [
    "myfiles = ['accounts.txt', 'details.txt', 'invite.txt']\n",
    "for filename in myfiles:\n",
    "    print(os.path.join('C:\\\\Users\\\\zhewei', filename))"
   ]
  },
  {
   "cell_type": "code",
   "execution_count": 8,
   "metadata": {},
   "outputs": [
    {
     "name": "stdout",
     "output_type": "stream",
     "text": [
      "C:\\Windows\\System32\n",
      "C:\\Users\\zhewei\\Desktop\n"
     ]
    }
   ],
   "source": [
    "# os.getcwd() 可以取得目前的工作目錄\n",
    "# os.chdir() 可以切換工作目錄\n",
    "os.chdir('C:\\\\Windows\\\\System32')\n",
    "print(os.getcwd())\n",
    "\n",
    "os.chdir('C:\\\\Users\\\\zhewei\\\\Desktop')\n",
    "print(os.getcwd())"
   ]
  },
  {
   "cell_type": "code",
   "execution_count": 10,
   "metadata": {
    "collapsed": true
   },
   "outputs": [],
   "source": [
    "# (.)是指這個資料夾\n",
    "# (..)是指上層資料夾\n",
    "# os.makedirs() 可以用來建立新的資料夾，注意，會建立所有必要的中間層資料夾\n",
    "os.makedirs('C:\\\\Users\\\\zhewei\\\\Desktop\\\\myfolder\\\\mysubfolder')"
   ]
  },
  {
   "cell_type": "code",
   "execution_count": 14,
   "metadata": {},
   "outputs": [
    {
     "name": "stdout",
     "output_type": "stream",
     "text": [
      "C:\\Users\\zhewei\\Desktop\n",
      "C:\\Users\\zhewei\\Desktop\\myhw2\n",
      "False\n"
     ]
    }
   ],
   "source": [
    "# os.path.abspath(path) 會返回參數的絕對路徑字串\n",
    "# os.path.isabs(path) 如果參數為絕對路徑，返回True；如果參數為相對路徑，則為False\n",
    "# os.path.relpath(path, start) 返回從start到path的相對路徑。如果沒有傳入start，則用目前工作目錄當作start\n",
    "print(os.path.abspath('.'))\n",
    "print(os.path.abspath('.\\\\myhw2\\\\'))\n",
    "print(os.path.isabs('.'))"
   ]
  },
  {
   "cell_type": "code",
   "execution_count": 17,
   "metadata": {},
   "outputs": [
    {
     "name": "stdout",
     "output_type": "stream",
     "text": [
      "Windows\n",
      "..\\..\\Windows\n",
      "C:\\Users\\zhewei\\Desktop\n"
     ]
    }
   ],
   "source": [
    "print(os.path.relpath('C:\\\\Windows', 'C:\\\\'))\n",
    "print(os.path.relpath('C:\\\\Windows', 'C:\\\\User\\\\zhewei'))\n",
    "print(os.getcwd())"
   ]
  },
  {
   "cell_type": "code",
   "execution_count": 20,
   "metadata": {},
   "outputs": [
    {
     "name": "stdout",
     "output_type": "stream",
     "text": [
      "myfile.txt\n",
      "C:\\Users\\zhewei\\Desktop\n",
      "('C:\\\\Users\\\\zhewei\\\\Desktop', 'myfile.txt')\n",
      "['C:', 'Users', 'zhewei', 'Desktop', 'myfile.txt']\n"
     ]
    }
   ],
   "source": [
    "# basename : same as filename\n",
    "# dirname\n",
    "path = 'C:\\\\Users\\\\zhewei\\\\Desktop\\\\myfile.txt'\n",
    "print(os.path.basename(path))\n",
    "print(os.path.dirname(path))\n",
    "print(os.path.split(path))\n",
    "print(path.split(os.path.sep))"
   ]
  },
  {
   "cell_type": "code",
   "execution_count": 21,
   "metadata": {},
   "outputs": [
    {
     "data": {
      "text/plain": [
       "['.ipynb_checkpoints',\n",
       " '.tmp.drivedownload',\n",
       " '2-1.py',\n",
       " 'Collaborative-Resource-Allocation_哲瑋_0518.pptx',\n",
       " 'desktop.ini',\n",
       " 'e-books',\n",
       " 'econ159.zip',\n",
       " 'hw2',\n",
       " 'HW2-2.pdf',\n",
       " 'lp_solve_5.5.2.5_IDE_Setup.exe',\n",
       " 'manuscript.pdf',\n",
       " 'ML book',\n",
       " 'MLLecture 6(Full) Advanced Data Models - ODB.pdf',\n",
       " 'MP21710_example.zip',\n",
       " 'My-Python-Note',\n",
       " 'myhw2',\n",
       " 'python matetial',\n",
       " 'R1-XXXXXXX-V2X-CA-draft_r1.docx',\n",
       " 'read_and_write.ipynb',\n",
       " 'Related Papers',\n",
       " 're_module.ipynb',\n",
       " 'rnn.py',\n",
       " 'V2X',\n",
       " 'VM Consumption']"
      ]
     },
     "execution_count": 21,
     "metadata": {},
     "output_type": "execute_result"
    }
   ],
   "source": [
    "# os.listdir(path) 返回該目錄下所有檔案名稱的list\n",
    "os.listdir('C:\\\\Users\\\\zhewei\\\\Desktop')"
   ]
  },
  {
   "cell_type": "code",
   "execution_count": 29,
   "metadata": {},
   "outputs": [
    {
     "name": "stdout",
     "output_type": "stream",
     "text": [
      "True\n",
      "False\n",
      "True\n",
      "True\n"
     ]
    }
   ],
   "source": [
    "#檢查路徑的合法性\n",
    "#如果傳入的path參數所給定的檔案或資料夾存在，則呼叫os.path.exist(path)會返回True，否則返回False\n",
    "#如果傳入的path參數所給定的檔案存在，且是檔案，則呼叫os.path.isfile(path)會返回True，否則返回False\n",
    "#如果傳入的path參數路徑存在，且是資料夾，則呼叫os.path.isdir(path)會返回True，否則返回False\n",
    "print(os.path.exists('C:\\\\Users'))\n",
    "print(os.path.exists('C:\\\\AAA'))\n",
    "print(os.path.isfile('C:\\\\Users\\\\zhewei\\\\Desktop\\\\rnn.py'))\n",
    "print(os.path.isdir('C:\\\\Users\\\\zhewei\\\\Desktop'))"
   ]
  },
  {
   "cell_type": "code",
   "execution_count": null,
   "metadata": {
    "collapsed": true
   },
   "outputs": [],
   "source": []
  }
 ],
 "metadata": {
  "kernelspec": {
   "display_name": "Python 3",
   "language": "python",
   "name": "python3"
  },
  "language_info": {
   "codemirror_mode": {
    "name": "ipython",
    "version": 3
   },
   "file_extension": ".py",
   "mimetype": "text/x-python",
   "name": "python",
   "nbconvert_exporter": "python",
   "pygments_lexer": "ipython3",
   "version": "3.5.4"
  }
 },
 "nbformat": 4,
 "nbformat_minor": 2
}
